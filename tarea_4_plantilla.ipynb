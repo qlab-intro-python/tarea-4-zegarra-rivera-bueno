{
 "cells": [
  {
   "cell_type": "markdown",
   "metadata": {},
   "source": [
    "# **Tarea Nº 4**"
   ]
  },
  {
   "cell_type": "markdown",
   "metadata": {},
   "source": [
    "- Fecha y hora de entrega: Domingo 12 de enero, 11:59pm\n",
    "- Agregue los nombres de las personas con las que discutió esta tarea: ____ Armando Paredes ______\n",
    "- Envíe su tarea haciendo el `push` de su código a su repo en GitHub Classroom: "
   ]
  },
  {
   "cell_type": "markdown",
   "metadata": {},
   "source": [
    "### **Integrantes**\n",
    "\n",
    "> Daphne Zegarra Zamora\n",
    "\n",
    "> Natsumi Rivera Huanuco \n",
    "\n",
    "> Janela Arauco Orellana"
   ]
  },
  {
   "cell_type": "markdown",
   "metadata": {},
   "source": [
    "### Evaluación\n",
    "\n",
    "- Nota: **17/20**\n",
    "\n",
    "¡Buen trabajo en general!"
   ]
  },
  {
   "cell_type": "markdown",
   "metadata": {},
   "source": [
    "## **Mercado de autos usados**"
   ]
  },
  {
   "cell_type": "markdown",
   "metadata": {},
   "source": [
    "Importa el conjunto de datos `neoauto_20240924.csv`\n",
    "    "
   ]
  },
  {
   "cell_type": "markdown",
   "metadata": {},
   "source": [
    "1. ¿Cuál es el precio promedio de los autos de cada marca (`item_brand`) publicados en cada subcategoría (`item_category_2`)?"
   ]
  },
  {
   "cell_type": "code",
   "execution_count": 18,
   "metadata": {},
   "outputs": [
    {
     "data": {
      "text/html": [
       "<div>\n",
       "<style scoped>\n",
       "    .dataframe tbody tr th:only-of-type {\n",
       "        vertical-align: middle;\n",
       "    }\n",
       "\n",
       "    .dataframe tbody tr th {\n",
       "        vertical-align: top;\n",
       "    }\n",
       "\n",
       "    .dataframe thead th {\n",
       "        text-align: right;\n",
       "    }\n",
       "</style>\n",
       "<table border=\"1\" class=\"dataframe\">\n",
       "  <thead>\n",
       "    <tr style=\"text-align: right;\">\n",
       "      <th></th>\n",
       "      <th>value</th>\n",
       "      <th>item_id</th>\n",
       "      <th>item_price</th>\n",
       "      <th>item_name</th>\n",
       "      <th>item_category</th>\n",
       "      <th>item_category_2</th>\n",
       "      <th>item_brand</th>\n",
       "      <th>item_km</th>\n",
       "      <th>item_year</th>\n",
       "      <th>item_transmission</th>\n",
       "      <th>...</th>\n",
       "      <th>item_location_province</th>\n",
       "      <th>item_tag</th>\n",
       "      <th>item_advertiser</th>\n",
       "      <th>item_credit</th>\n",
       "      <th>item_verified</th>\n",
       "      <th>item_financed_by</th>\n",
       "      <th>santander_price</th>\n",
       "      <th>item_publication_slug</th>\n",
       "      <th>item_publication_type</th>\n",
       "      <th>item_publication_type_Id</th>\n",
       "    </tr>\n",
       "  </thead>\n",
       "  <tbody>\n",
       "    <tr>\n",
       "      <th>0</th>\n",
       "      <td>29200</td>\n",
       "      <td>1807331</td>\n",
       "      <td>29200.0</td>\n",
       "      <td>toyota hilux 2021</td>\n",
       "      <td>autos</td>\n",
       "      <td>Pick Up</td>\n",
       "      <td>TOYOTA</td>\n",
       "      <td>51635.0</td>\n",
       "      <td>2021</td>\n",
       "      <td>Mecánica</td>\n",
       "      <td>...</td>\n",
       "      <td>lima</td>\n",
       "      <td>Como nuevo</td>\n",
       "      <td>Erick Bazán Ubaldo</td>\n",
       "      <td>True</td>\n",
       "      <td>True</td>\n",
       "      <td>Santander</td>\n",
       "      <td>NaN</td>\n",
       "      <td>auto/usado/toyota-hilux-2021-1807331</td>\n",
       "      <td>PREMIUM</td>\n",
       "      <td>25</td>\n",
       "    </tr>\n",
       "    <tr>\n",
       "      <th>1</th>\n",
       "      <td>98500</td>\n",
       "      <td>1807393</td>\n",
       "      <td>98500.0</td>\n",
       "      <td>lexus lx 600 2023</td>\n",
       "      <td>autos</td>\n",
       "      <td>Camionetas Suv</td>\n",
       "      <td>LEXUS</td>\n",
       "      <td>15000.0</td>\n",
       "      <td>2023</td>\n",
       "      <td>Automática - Secuencial</td>\n",
       "      <td>...</td>\n",
       "      <td>lima</td>\n",
       "      <td>Como nuevo</td>\n",
       "      <td>Asesor Gabriel NovoCar</td>\n",
       "      <td>False</td>\n",
       "      <td>True</td>\n",
       "      <td>NaN</td>\n",
       "      <td>NaN</td>\n",
       "      <td>auto/usado/lexus-lx-600-2023-1807393</td>\n",
       "      <td>PREMIUM</td>\n",
       "      <td>25</td>\n",
       "    </tr>\n",
       "    <tr>\n",
       "      <th>2</th>\n",
       "      <td>16800</td>\n",
       "      <td>1739308</td>\n",
       "      <td>17800.0</td>\n",
       "      <td>bmw 520-i 2016</td>\n",
       "      <td>autos</td>\n",
       "      <td>Sedan</td>\n",
       "      <td>BMW</td>\n",
       "      <td>66000.0</td>\n",
       "      <td>2016</td>\n",
       "      <td>Automática - Secuencial</td>\n",
       "      <td>...</td>\n",
       "      <td>lima</td>\n",
       "      <td>Ocasión</td>\n",
       "      <td>Carlos Chauca</td>\n",
       "      <td>True</td>\n",
       "      <td>True</td>\n",
       "      <td>Santander</td>\n",
       "      <td>16800.0</td>\n",
       "      <td>auto/usado/bmw-520-i-2016-1739308</td>\n",
       "      <td>PREMIUM</td>\n",
       "      <td>25</td>\n",
       "    </tr>\n",
       "    <tr>\n",
       "      <th>3</th>\n",
       "      <td>15900</td>\n",
       "      <td>1805714</td>\n",
       "      <td>16900.0</td>\n",
       "      <td>chevrolet captiva 2021</td>\n",
       "      <td>autos</td>\n",
       "      <td>Camionetas Suv</td>\n",
       "      <td>CHEVROLET</td>\n",
       "      <td>40300.0</td>\n",
       "      <td>2021</td>\n",
       "      <td>Automática - Secuencial</td>\n",
       "      <td>...</td>\n",
       "      <td>santa</td>\n",
       "      <td>Premium</td>\n",
       "      <td>Darwin Américo Barrón Pastor</td>\n",
       "      <td>True</td>\n",
       "      <td>True</td>\n",
       "      <td>Santander</td>\n",
       "      <td>15900.0</td>\n",
       "      <td>auto/usado/chevrolet-captiva-2021-1805714</td>\n",
       "      <td>PREMIUM</td>\n",
       "      <td>25</td>\n",
       "    </tr>\n",
       "    <tr>\n",
       "      <th>4</th>\n",
       "      <td>12500</td>\n",
       "      <td>1806332</td>\n",
       "      <td>12500.0</td>\n",
       "      <td>dfsk glory 500 2023</td>\n",
       "      <td>autos</td>\n",
       "      <td>Camionetas Suv</td>\n",
       "      <td>DFSK</td>\n",
       "      <td>33000.0</td>\n",
       "      <td>2023</td>\n",
       "      <td>Mecánica</td>\n",
       "      <td>...</td>\n",
       "      <td>lima</td>\n",
       "      <td>Premium</td>\n",
       "      <td>GORDILLO FERNANDO</td>\n",
       "      <td>True</td>\n",
       "      <td>True</td>\n",
       "      <td>Santander</td>\n",
       "      <td>NaN</td>\n",
       "      <td>auto/usado/dfsk-glory-500-2023-1806332</td>\n",
       "      <td>PREMIUM</td>\n",
       "      <td>25</td>\n",
       "    </tr>\n",
       "  </tbody>\n",
       "</table>\n",
       "<p>5 rows × 23 columns</p>\n",
       "</div>"
      ],
      "text/plain": [
       "   value  item_id  item_price               item_name item_category  \\\n",
       "0  29200  1807331     29200.0       toyota hilux 2021         autos   \n",
       "1  98500  1807393     98500.0       lexus lx 600 2023         autos   \n",
       "2  16800  1739308     17800.0          bmw 520-i 2016         autos   \n",
       "3  15900  1805714     16900.0  chevrolet captiva 2021         autos   \n",
       "4  12500  1806332     12500.0     dfsk glory 500 2023         autos   \n",
       "\n",
       "  item_category_2 item_brand  item_km  item_year        item_transmission  \\\n",
       "0         Pick Up     TOYOTA  51635.0       2021                 Mecánica   \n",
       "1  Camionetas Suv      LEXUS  15000.0       2023  Automática - Secuencial   \n",
       "2           Sedan        BMW  66000.0       2016  Automática - Secuencial   \n",
       "3  Camionetas Suv  CHEVROLET  40300.0       2021  Automática - Secuencial   \n",
       "4  Camionetas Suv       DFSK  33000.0       2023                 Mecánica   \n",
       "\n",
       "   ... item_location_province    item_tag               item_advertiser  \\\n",
       "0  ...                   lima  Como nuevo            Erick Bazán Ubaldo   \n",
       "1  ...                   lima  Como nuevo        Asesor Gabriel NovoCar   \n",
       "2  ...                   lima     Ocasión                 Carlos Chauca   \n",
       "3  ...                  santa     Premium  Darwin Américo Barrón Pastor   \n",
       "4  ...                   lima     Premium             GORDILLO FERNANDO   \n",
       "\n",
       "  item_credit item_verified item_financed_by  santander_price  \\\n",
       "0        True          True        Santander              NaN   \n",
       "1       False          True              NaN              NaN   \n",
       "2        True          True        Santander          16800.0   \n",
       "3        True          True        Santander          15900.0   \n",
       "4        True          True        Santander              NaN   \n",
       "\n",
       "                       item_publication_slug item_publication_type  \\\n",
       "0       auto/usado/toyota-hilux-2021-1807331               PREMIUM   \n",
       "1       auto/usado/lexus-lx-600-2023-1807393               PREMIUM   \n",
       "2          auto/usado/bmw-520-i-2016-1739308               PREMIUM   \n",
       "3  auto/usado/chevrolet-captiva-2021-1805714               PREMIUM   \n",
       "4     auto/usado/dfsk-glory-500-2023-1806332               PREMIUM   \n",
       "\n",
       "   item_publication_type_Id  \n",
       "0                        25  \n",
       "1                        25  \n",
       "2                        25  \n",
       "3                        25  \n",
       "4                        25  \n",
       "\n",
       "[5 rows x 23 columns]"
      ]
     },
     "metadata": {},
     "output_type": "display_data"
    },
    {
     "data": {
      "text/html": [
       "<div>\n",
       "<style scoped>\n",
       "    .dataframe tbody tr th:only-of-type {\n",
       "        vertical-align: middle;\n",
       "    }\n",
       "\n",
       "    .dataframe tbody tr th {\n",
       "        vertical-align: top;\n",
       "    }\n",
       "\n",
       "    .dataframe thead th {\n",
       "        text-align: right;\n",
       "    }\n",
       "</style>\n",
       "<table border=\"1\" class=\"dataframe\">\n",
       "  <thead>\n",
       "    <tr style=\"text-align: right;\">\n",
       "      <th></th>\n",
       "      <th></th>\n",
       "      <th>item_price</th>\n",
       "    </tr>\n",
       "    <tr>\n",
       "      <th>item_category_2</th>\n",
       "      <th>item_brand</th>\n",
       "      <th></th>\n",
       "    </tr>\n",
       "  </thead>\n",
       "  <tbody>\n",
       "    <tr>\n",
       "      <th rowspan=\"5\" valign=\"top\">Camionetas Suv</th>\n",
       "      <th>ASTON MARTIN</th>\n",
       "      <td>229000.00</td>\n",
       "    </tr>\n",
       "    <tr>\n",
       "      <th>AUDI</th>\n",
       "      <td>34602.42</td>\n",
       "    </tr>\n",
       "    <tr>\n",
       "      <th>BAIC</th>\n",
       "      <td>10800.00</td>\n",
       "    </tr>\n",
       "    <tr>\n",
       "      <th>BAIC YINXIANG</th>\n",
       "      <td>8500.00</td>\n",
       "    </tr>\n",
       "    <tr>\n",
       "      <th>BMW</th>\n",
       "      <td>38377.80</td>\n",
       "    </tr>\n",
       "    <tr>\n",
       "      <th>...</th>\n",
       "      <th>...</th>\n",
       "      <td>...</td>\n",
       "    </tr>\n",
       "    <tr>\n",
       "      <th rowspan=\"5\" valign=\"top\">Vans</th>\n",
       "      <th>RAM</th>\n",
       "      <td>8883.33</td>\n",
       "    </tr>\n",
       "    <tr>\n",
       "      <th>RENAULT</th>\n",
       "      <td>4900.00</td>\n",
       "    </tr>\n",
       "    <tr>\n",
       "      <th>SUZUKI</th>\n",
       "      <td>11058.33</td>\n",
       "    </tr>\n",
       "    <tr>\n",
       "      <th>TOYOTA</th>\n",
       "      <td>16080.00</td>\n",
       "    </tr>\n",
       "    <tr>\n",
       "      <th>VOLKSWAGEN</th>\n",
       "      <td>14350.00</td>\n",
       "    </tr>\n",
       "  </tbody>\n",
       "</table>\n",
       "<p>202 rows × 1 columns</p>\n",
       "</div>"
      ],
      "text/plain": [
       "                               item_price\n",
       "item_category_2 item_brand               \n",
       "Camionetas Suv  ASTON MARTIN    229000.00\n",
       "                AUDI             34602.42\n",
       "                BAIC             10800.00\n",
       "                BAIC YINXIANG     8500.00\n",
       "                BMW              38377.80\n",
       "...                                   ...\n",
       "Vans            RAM               8883.33\n",
       "                RENAULT           4900.00\n",
       "                SUZUKI           11058.33\n",
       "                TOYOTA           16080.00\n",
       "                VOLKSWAGEN       14350.00\n",
       "\n",
       "[202 rows x 1 columns]"
      ]
     },
     "metadata": {},
     "output_type": "display_data"
    }
   ],
   "source": [
    "# Solución\n",
    "import numpy as np \n",
    "import pandas as pd\n",
    "\n",
    "df_neoauto = pd.read_csv(r\"C:\\Users\\ASUS\\OneDrive\\Documents\\CICLO 2025-0\\Fundamentos de Programación QLAB\\tarea-4-zegarra-rivera-bueno\\neoauto_20240924.csv\", delimiter=\",\")\n",
    "display(df_neoauto.head())\n",
    "\n",
    "df_price = df_neoauto.groupby(['item_category_2','item_brand'])[['item_price']].mean().round(2)\n",
    "display(df_price)\n"
   ]
  },
  {
   "cell_type": "markdown",
   "metadata": {},
   "source": [
    "2. ¿Cuántos autos tienen más de 100,000 kilómetros (`item_km`) pero un precio (`item_price`) menor al promedio general?"
   ]
  },
  {
   "cell_type": "code",
   "execution_count": 39,
   "metadata": {},
   "outputs": [
    {
     "name": "stdout",
     "output_type": "stream",
     "text": [
      "El promedio general del precio es 22032.99\n"
     ]
    },
    {
     "data": {
      "text/html": [
       "<div>\n",
       "<style scoped>\n",
       "    .dataframe tbody tr th:only-of-type {\n",
       "        vertical-align: middle;\n",
       "    }\n",
       "\n",
       "    .dataframe tbody tr th {\n",
       "        vertical-align: top;\n",
       "    }\n",
       "\n",
       "    .dataframe thead th {\n",
       "        text-align: right;\n",
       "    }\n",
       "</style>\n",
       "<table border=\"1\" class=\"dataframe\">\n",
       "  <thead>\n",
       "    <tr style=\"text-align: right;\">\n",
       "      <th></th>\n",
       "      <th>value</th>\n",
       "      <th>item_id</th>\n",
       "      <th>item_price</th>\n",
       "      <th>item_name</th>\n",
       "      <th>item_category</th>\n",
       "      <th>item_category_2</th>\n",
       "      <th>item_brand</th>\n",
       "      <th>item_km</th>\n",
       "      <th>item_year</th>\n",
       "      <th>item_transmission</th>\n",
       "      <th>...</th>\n",
       "      <th>item_location_province</th>\n",
       "      <th>item_tag</th>\n",
       "      <th>item_advertiser</th>\n",
       "      <th>item_credit</th>\n",
       "      <th>item_verified</th>\n",
       "      <th>item_financed_by</th>\n",
       "      <th>santander_price</th>\n",
       "      <th>item_publication_slug</th>\n",
       "      <th>item_publication_type</th>\n",
       "      <th>item_publication_type_Id</th>\n",
       "    </tr>\n",
       "  </thead>\n",
       "  <tbody>\n",
       "    <tr>\n",
       "      <th>9</th>\n",
       "      <td>14900</td>\n",
       "      <td>1807390</td>\n",
       "      <td>14900.0</td>\n",
       "      <td>mitsubishi nativa 2012</td>\n",
       "      <td>autos</td>\n",
       "      <td>Camionetas Suv</td>\n",
       "      <td>MITSUBISHI</td>\n",
       "      <td>148681.0</td>\n",
       "      <td>2012</td>\n",
       "      <td>Automática - Secuencial</td>\n",
       "      <td>...</td>\n",
       "      <td>lima</td>\n",
       "      <td>Premium</td>\n",
       "      <td>JC UGARTE</td>\n",
       "      <td>False</td>\n",
       "      <td>False</td>\n",
       "      <td>NaN</td>\n",
       "      <td>NaN</td>\n",
       "      <td>auto/usado/mitsubishi-nativa-2012-1807390</td>\n",
       "      <td>PREMIUM</td>\n",
       "      <td>25</td>\n",
       "    </tr>\n",
       "    <tr>\n",
       "      <th>13</th>\n",
       "      <td>9000</td>\n",
       "      <td>1806191</td>\n",
       "      <td>9000.0</td>\n",
       "      <td>hyundai tucson 2009</td>\n",
       "      <td>autos</td>\n",
       "      <td>Camionetas Suv</td>\n",
       "      <td>HYUNDAI</td>\n",
       "      <td>139000.0</td>\n",
       "      <td>2009</td>\n",
       "      <td>Automática</td>\n",
       "      <td>...</td>\n",
       "      <td>lima</td>\n",
       "      <td>Ocasión</td>\n",
       "      <td>Luis Pardo</td>\n",
       "      <td>False</td>\n",
       "      <td>False</td>\n",
       "      <td>NaN</td>\n",
       "      <td>NaN</td>\n",
       "      <td>auto/usado/hyundai-tucson-2009-1806191</td>\n",
       "      <td>PREMIUM</td>\n",
       "      <td>25</td>\n",
       "    </tr>\n",
       "    <tr>\n",
       "      <th>24</th>\n",
       "      <td>19000</td>\n",
       "      <td>1807372</td>\n",
       "      <td>19000.0</td>\n",
       "      <td>toyota land cruiser 2001</td>\n",
       "      <td>autos</td>\n",
       "      <td>Camionetas Suv</td>\n",
       "      <td>TOYOTA</td>\n",
       "      <td>408000.0</td>\n",
       "      <td>2001</td>\n",
       "      <td>Automática</td>\n",
       "      <td>...</td>\n",
       "      <td>lima</td>\n",
       "      <td>Ocasión</td>\n",
       "      <td>Jean Paul Gondonneau</td>\n",
       "      <td>False</td>\n",
       "      <td>False</td>\n",
       "      <td>NaN</td>\n",
       "      <td>NaN</td>\n",
       "      <td>auto/usado/toyota-land-cruiser-2001-1807372</td>\n",
       "      <td>PREMIUM</td>\n",
       "      <td>25</td>\n",
       "    </tr>\n",
       "    <tr>\n",
       "      <th>31</th>\n",
       "      <td>10000</td>\n",
       "      <td>1807318</td>\n",
       "      <td>10000.0</td>\n",
       "      <td>ford fusion 2015</td>\n",
       "      <td>autos</td>\n",
       "      <td>Sedan</td>\n",
       "      <td>FORD</td>\n",
       "      <td>115510.0</td>\n",
       "      <td>2015</td>\n",
       "      <td>Automática</td>\n",
       "      <td>...</td>\n",
       "      <td>lima</td>\n",
       "      <td>Seminuevo</td>\n",
       "      <td>JUAN JOSE YOMONA</td>\n",
       "      <td>True</td>\n",
       "      <td>False</td>\n",
       "      <td>Santander</td>\n",
       "      <td>NaN</td>\n",
       "      <td>auto/usado/ford-fusion-2015-1807318</td>\n",
       "      <td>PREMIUM</td>\n",
       "      <td>25</td>\n",
       "    </tr>\n",
       "    <tr>\n",
       "      <th>127</th>\n",
       "      <td>15900</td>\n",
       "      <td>1807166</td>\n",
       "      <td>15900.0</td>\n",
       "      <td>volkswagen tiguan 2015</td>\n",
       "      <td>autos</td>\n",
       "      <td>Camionetas Suv</td>\n",
       "      <td>VOLKSWAGEN</td>\n",
       "      <td>114000.0</td>\n",
       "      <td>2015</td>\n",
       "      <td>Automática - Secuencial</td>\n",
       "      <td>...</td>\n",
       "      <td>lima</td>\n",
       "      <td>Unico Dueño</td>\n",
       "      <td>Sebastian de Souza</td>\n",
       "      <td>True</td>\n",
       "      <td>False</td>\n",
       "      <td>Santander</td>\n",
       "      <td>NaN</td>\n",
       "      <td>auto/usado/volkswagen-tiguan-2015-1807166</td>\n",
       "      <td>PREMIUM</td>\n",
       "      <td>25</td>\n",
       "    </tr>\n",
       "  </tbody>\n",
       "</table>\n",
       "<p>5 rows × 23 columns</p>\n",
       "</div>"
      ],
      "text/plain": [
       "     value  item_id  item_price                 item_name item_category  \\\n",
       "9    14900  1807390     14900.0    mitsubishi nativa 2012         autos   \n",
       "13    9000  1806191      9000.0       hyundai tucson 2009         autos   \n",
       "24   19000  1807372     19000.0  toyota land cruiser 2001         autos   \n",
       "31   10000  1807318     10000.0          ford fusion 2015         autos   \n",
       "127  15900  1807166     15900.0    volkswagen tiguan 2015         autos   \n",
       "\n",
       "    item_category_2  item_brand   item_km  item_year        item_transmission  \\\n",
       "9    Camionetas Suv  MITSUBISHI  148681.0       2012  Automática - Secuencial   \n",
       "13   Camionetas Suv     HYUNDAI  139000.0       2009               Automática   \n",
       "24   Camionetas Suv      TOYOTA  408000.0       2001               Automática   \n",
       "31            Sedan        FORD  115510.0       2015               Automática   \n",
       "127  Camionetas Suv  VOLKSWAGEN  114000.0       2015  Automática - Secuencial   \n",
       "\n",
       "     ... item_location_province     item_tag       item_advertiser  \\\n",
       "9    ...                   lima      Premium             JC UGARTE   \n",
       "13   ...                   lima      Ocasión            Luis Pardo   \n",
       "24   ...                   lima      Ocasión  Jean Paul Gondonneau   \n",
       "31   ...                   lima    Seminuevo      JUAN JOSE YOMONA   \n",
       "127  ...                   lima  Unico Dueño    Sebastian de Souza   \n",
       "\n",
       "    item_credit item_verified item_financed_by  santander_price  \\\n",
       "9         False         False              NaN              NaN   \n",
       "13        False         False              NaN              NaN   \n",
       "24        False         False              NaN              NaN   \n",
       "31         True         False        Santander              NaN   \n",
       "127        True         False        Santander              NaN   \n",
       "\n",
       "                           item_publication_slug item_publication_type  \\\n",
       "9      auto/usado/mitsubishi-nativa-2012-1807390               PREMIUM   \n",
       "13        auto/usado/hyundai-tucson-2009-1806191               PREMIUM   \n",
       "24   auto/usado/toyota-land-cruiser-2001-1807372               PREMIUM   \n",
       "31           auto/usado/ford-fusion-2015-1807318               PREMIUM   \n",
       "127    auto/usado/volkswagen-tiguan-2015-1807166               PREMIUM   \n",
       "\n",
       "     item_publication_type_Id  \n",
       "9                          25  \n",
       "13                         25  \n",
       "24                         25  \n",
       "31                         25  \n",
       "127                        25  \n",
       "\n",
       "[5 rows x 23 columns]"
      ]
     },
     "metadata": {},
     "output_type": "display_data"
    },
    {
     "name": "stdout",
     "output_type": "stream",
     "text": [
      "Hay 497 autos que cumples con esas características\n"
     ]
    }
   ],
   "source": [
    "# Solución\n",
    "promedio_general = df_neoauto['item_price'].mean()\n",
    "print(f\"El promedio general del precio es {round(promedio_general,2)}\")\n",
    "\n",
    "df_2 = df_neoauto[(df_neoauto['item_km'] > 100_000) & (df_neoauto['item_price'] < promedio_general)]\n",
    "display(df_2.head())\n",
    "\n",
    "autos = df_2.shape[0]\n",
    "print(f\"Hay {autos} autos que cumples con esas características\")"
   ]
  },
  {
   "cell_type": "markdown",
   "metadata": {},
   "source": [
    "3. Encuentra el modelo (`item_name`) más caro y el más barato de cada marca (`item_brand`)."
   ]
  },
  {
   "cell_type": "code",
   "execution_count": 51,
   "metadata": {},
   "outputs": [
    {
     "name": "stdout",
     "output_type": "stream",
     "text": [
      "Modelos más caros por marca:\n"
     ]
    },
    {
     "data": {
      "text/html": [
       "<div>\n",
       "<style scoped>\n",
       "    .dataframe tbody tr th:only-of-type {\n",
       "        vertical-align: middle;\n",
       "    }\n",
       "\n",
       "    .dataframe tbody tr th {\n",
       "        vertical-align: top;\n",
       "    }\n",
       "\n",
       "    .dataframe thead th {\n",
       "        text-align: right;\n",
       "    }\n",
       "</style>\n",
       "<table border=\"1\" class=\"dataframe\">\n",
       "  <thead>\n",
       "    <tr style=\"text-align: right;\">\n",
       "      <th></th>\n",
       "      <th>item_brand</th>\n",
       "      <th>item_name</th>\n",
       "      <th>item_price</th>\n",
       "    </tr>\n",
       "  </thead>\n",
       "  <tbody>\n",
       "    <tr>\n",
       "      <th>1362</th>\n",
       "      <td>ALFA-ROMEO</td>\n",
       "      <td>alfa-romeo 147 2006</td>\n",
       "      <td>8500.0</td>\n",
       "    </tr>\n",
       "    <tr>\n",
       "      <th>1313</th>\n",
       "      <td>ASTON MARTIN</td>\n",
       "      <td>aston martin dbx 2021</td>\n",
       "      <td>229000.0</td>\n",
       "    </tr>\n",
       "    <tr>\n",
       "      <th>1208</th>\n",
       "      <td>AUDI</td>\n",
       "      <td>audi rs 6 2024</td>\n",
       "      <td>220000.0</td>\n",
       "    </tr>\n",
       "    <tr>\n",
       "      <th>3708</th>\n",
       "      <td>AUSTIN</td>\n",
       "      <td>austin mini cooper 1970</td>\n",
       "      <td>1.0</td>\n",
       "    </tr>\n",
       "    <tr>\n",
       "      <th>2317</th>\n",
       "      <td>BAIC</td>\n",
       "      <td>baic x55 2021</td>\n",
       "      <td>12800.0</td>\n",
       "    </tr>\n",
       "    <tr>\n",
       "      <th>...</th>\n",
       "      <td>...</td>\n",
       "      <td>...</td>\n",
       "      <td>...</td>\n",
       "    </tr>\n",
       "    <tr>\n",
       "      <th>3396</th>\n",
       "      <td>SWM</td>\n",
       "      <td>swm g05 pro 2022</td>\n",
       "      <td>14000.0</td>\n",
       "    </tr>\n",
       "    <tr>\n",
       "      <th>3582</th>\n",
       "      <td>TOYOTA</td>\n",
       "      <td>toyota hilux 2019</td>\n",
       "      <td>100000.0</td>\n",
       "    </tr>\n",
       "    <tr>\n",
       "      <th>1845</th>\n",
       "      <td>TRIUMPH</td>\n",
       "      <td>triumph tr-7 1971</td>\n",
       "      <td>18900.0</td>\n",
       "    </tr>\n",
       "    <tr>\n",
       "      <th>1373</th>\n",
       "      <td>VOLKSWAGEN</td>\n",
       "      <td>volkswagen teramont 2023</td>\n",
       "      <td>48900.0</td>\n",
       "    </tr>\n",
       "    <tr>\n",
       "      <th>1417</th>\n",
       "      <td>VOLVO</td>\n",
       "      <td>volvo xc-90 2023</td>\n",
       "      <td>84990.0</td>\n",
       "    </tr>\n",
       "  </tbody>\n",
       "</table>\n",
       "<p>73 rows × 3 columns</p>\n",
       "</div>"
      ],
      "text/plain": [
       "        item_brand                 item_name  item_price\n",
       "1362    ALFA-ROMEO       alfa-romeo 147 2006      8500.0\n",
       "1313  ASTON MARTIN     aston martin dbx 2021    229000.0\n",
       "1208          AUDI            audi rs 6 2024    220000.0\n",
       "3708        AUSTIN   austin mini cooper 1970         1.0\n",
       "2317          BAIC             baic x55 2021     12800.0\n",
       "...            ...                       ...         ...\n",
       "3396           SWM          swm g05 pro 2022     14000.0\n",
       "3582        TOYOTA         toyota hilux 2019    100000.0\n",
       "1845       TRIUMPH         triumph tr-7 1971     18900.0\n",
       "1373    VOLKSWAGEN  volkswagen teramont 2023     48900.0\n",
       "1417         VOLVO          volvo xc-90 2023     84990.0\n",
       "\n",
       "[73 rows x 3 columns]"
      ]
     },
     "metadata": {},
     "output_type": "display_data"
    },
    {
     "name": "stdout",
     "output_type": "stream",
     "text": [
      "\n",
      "Modelos más baratos por marca:\n"
     ]
    },
    {
     "data": {
      "text/html": [
       "<div>\n",
       "<style scoped>\n",
       "    .dataframe tbody tr th:only-of-type {\n",
       "        vertical-align: middle;\n",
       "    }\n",
       "\n",
       "    .dataframe tbody tr th {\n",
       "        vertical-align: top;\n",
       "    }\n",
       "\n",
       "    .dataframe thead th {\n",
       "        text-align: right;\n",
       "    }\n",
       "</style>\n",
       "<table border=\"1\" class=\"dataframe\">\n",
       "  <thead>\n",
       "    <tr style=\"text-align: right;\">\n",
       "      <th></th>\n",
       "      <th>item_brand</th>\n",
       "      <th>item_name</th>\n",
       "      <th>item_price</th>\n",
       "    </tr>\n",
       "  </thead>\n",
       "  <tbody>\n",
       "    <tr>\n",
       "      <th>2593</th>\n",
       "      <td>ALFA-ROMEO</td>\n",
       "      <td>alfa-romeo alfasud 1982</td>\n",
       "      <td>2500.0</td>\n",
       "    </tr>\n",
       "    <tr>\n",
       "      <th>1063</th>\n",
       "      <td>ASTON MARTIN</td>\n",
       "      <td>aston martin db11 2017</td>\n",
       "      <td>149900.0</td>\n",
       "    </tr>\n",
       "    <tr>\n",
       "      <th>633</th>\n",
       "      <td>AUDI</td>\n",
       "      <td>audi a3 sedan 2015</td>\n",
       "      <td>0.0</td>\n",
       "    </tr>\n",
       "    <tr>\n",
       "      <th>3708</th>\n",
       "      <td>AUSTIN</td>\n",
       "      <td>austin mini cooper 1970</td>\n",
       "      <td>1.0</td>\n",
       "    </tr>\n",
       "    <tr>\n",
       "      <th>2622</th>\n",
       "      <td>BAIC</td>\n",
       "      <td>baic plus 2018</td>\n",
       "      <td>7500.0</td>\n",
       "    </tr>\n",
       "    <tr>\n",
       "      <th>...</th>\n",
       "      <td>...</td>\n",
       "      <td>...</td>\n",
       "      <td>...</td>\n",
       "    </tr>\n",
       "    <tr>\n",
       "      <th>3396</th>\n",
       "      <td>SWM</td>\n",
       "      <td>swm g05 pro 2022</td>\n",
       "      <td>14000.0</td>\n",
       "    </tr>\n",
       "    <tr>\n",
       "      <th>2690</th>\n",
       "      <td>TOYOTA</td>\n",
       "      <td>toyota land cruiser prado 2011</td>\n",
       "      <td>0.0</td>\n",
       "    </tr>\n",
       "    <tr>\n",
       "      <th>1845</th>\n",
       "      <td>TRIUMPH</td>\n",
       "      <td>triumph tr-7 1971</td>\n",
       "      <td>18900.0</td>\n",
       "    </tr>\n",
       "    <tr>\n",
       "      <th>360</th>\n",
       "      <td>VOLKSWAGEN</td>\n",
       "      <td>volkswagen bora 2015</td>\n",
       "      <td>0.0</td>\n",
       "    </tr>\n",
       "    <tr>\n",
       "      <th>2094</th>\n",
       "      <td>VOLVO</td>\n",
       "      <td>volvo 850 turbo 1995</td>\n",
       "      <td>2100.0</td>\n",
       "    </tr>\n",
       "  </tbody>\n",
       "</table>\n",
       "<p>73 rows × 3 columns</p>\n",
       "</div>"
      ],
      "text/plain": [
       "        item_brand                       item_name  item_price\n",
       "2593    ALFA-ROMEO         alfa-romeo alfasud 1982      2500.0\n",
       "1063  ASTON MARTIN          aston martin db11 2017    149900.0\n",
       "633           AUDI              audi a3 sedan 2015         0.0\n",
       "3708        AUSTIN         austin mini cooper 1970         1.0\n",
       "2622          BAIC                  baic plus 2018      7500.0\n",
       "...            ...                             ...         ...\n",
       "3396           SWM                swm g05 pro 2022     14000.0\n",
       "2690        TOYOTA  toyota land cruiser prado 2011         0.0\n",
       "1845       TRIUMPH               triumph tr-7 1971     18900.0\n",
       "360     VOLKSWAGEN            volkswagen bora 2015         0.0\n",
       "2094         VOLVO            volvo 850 turbo 1995      2100.0\n",
       "\n",
       "[73 rows x 3 columns]"
      ]
     },
     "metadata": {},
     "output_type": "display_data"
    }
   ],
   "source": [
    "# Solución\n",
    "modelos_mas_caros = df_neoauto.loc[df_neoauto.groupby('item_brand')['item_price'].idxmax(), ['item_brand', 'item_name', 'item_price']]\n",
    "\n",
    "modelos_mas_baratos = df_neoauto.loc[df_neoauto.groupby('item_brand')['item_price'].idxmin(), ['item_brand', 'item_name', 'item_price']]\n",
    "\n",
    "print(\"Modelos más caros por marca:\")\n",
    "display(modelos_mas_caros)\n",
    "print(\"\\nModelos más baratos por marca:\")\n",
    "display(modelos_mas_baratos)\n"
   ]
  },
  {
   "cell_type": "markdown",
   "metadata": {},
   "source": [
    "4. Encuentra las tres marcas con mayor número de autos financiados por Santander (`item_financed_by`). "
   ]
  },
  {
   "cell_type": "code",
   "execution_count": 59,
   "metadata": {},
   "outputs": [
    {
     "data": {
      "text/plain": [
       "value                          0\n",
       "item_id                        0\n",
       "item_price                     0\n",
       "item_name                      0\n",
       "item_category                  0\n",
       "item_category_2                0\n",
       "item_brand                     0\n",
       "item_km                        0\n",
       "item_year                      0\n",
       "item_transmission              0\n",
       "item_fuel                      0\n",
       "price                          0\n",
       "item_location_city             0\n",
       "item_location_province         0\n",
       "item_tag                    2435\n",
       "item_advertiser                0\n",
       "item_credit                    0\n",
       "item_verified                  0\n",
       "item_financed_by             781\n",
       "santander_price             2964\n",
       "item_publication_slug          0\n",
       "item_publication_type          0\n",
       "item_publication_type_Id       0\n",
       "dtype: int64"
      ]
     },
     "metadata": {},
     "output_type": "display_data"
    },
    {
     "data": {
      "text/html": [
       "<div>\n",
       "<style scoped>\n",
       "    .dataframe tbody tr th:only-of-type {\n",
       "        vertical-align: middle;\n",
       "    }\n",
       "\n",
       "    .dataframe tbody tr th {\n",
       "        vertical-align: top;\n",
       "    }\n",
       "\n",
       "    .dataframe thead th {\n",
       "        text-align: right;\n",
       "    }\n",
       "</style>\n",
       "<table border=\"1\" class=\"dataframe\">\n",
       "  <thead>\n",
       "    <tr style=\"text-align: right;\">\n",
       "      <th></th>\n",
       "      <th>item_financed_by</th>\n",
       "    </tr>\n",
       "    <tr>\n",
       "      <th>item_brand</th>\n",
       "      <th></th>\n",
       "    </tr>\n",
       "  </thead>\n",
       "  <tbody>\n",
       "    <tr>\n",
       "      <th>BMW</th>\n",
       "      <td>42</td>\n",
       "    </tr>\n",
       "    <tr>\n",
       "      <th>TOYOTA</th>\n",
       "      <td>25</td>\n",
       "    </tr>\n",
       "    <tr>\n",
       "      <th>MAZDA</th>\n",
       "      <td>24</td>\n",
       "    </tr>\n",
       "  </tbody>\n",
       "</table>\n",
       "</div>"
      ],
      "text/plain": [
       "            item_financed_by\n",
       "item_brand                  \n",
       "BMW                       42\n",
       "TOYOTA                    25\n",
       "MAZDA                     24"
      ]
     },
     "metadata": {},
     "output_type": "display_data"
    },
    {
     "name": "stdout",
     "output_type": "stream",
     "text": [
      "Las marcas más financiadas por Santander son: BMW, TOYOTA, MAZDA\n"
     ]
    }
   ],
   "source": [
    "# Solución\n",
    "df_neoauto.head()\n",
    "\n",
    "null_sum = df_neoauto.isna().sum()\n",
    "display(null_sum)\n",
    "\n",
    "\"Podemos observar que Santander tiene bastante nulos. Eliminaremos esas filas\"\n",
    "\n",
    "df_neoauto_corregido = df_neoauto.dropna()\n",
    "df_neoauto_corregido.isna().sum()\n",
    "\n",
    "df_4 = df_neoauto_corregido.groupby(['item_brand'])[['item_financed_by']].count()\n",
    "display(df_4.sort_values([\"item_financed_by\"], ascending = False).head(3))\n",
    "\n",
    "print(\"Las marcas más financiadas por Santander son: BMW, TOYOTA, MAZDA\")"
   ]
  },
  {
   "cell_type": "markdown",
   "metadata": {},
   "source": [
    "5. Agrupa las publicaciones por tipo de transmisión (`item_transmission`) y calcula la desviación estándar del precio (`item_price`) para cada tipo.  "
   ]
  },
  {
   "cell_type": "code",
   "execution_count": 62,
   "metadata": {},
   "outputs": [
    {
     "data": {
      "text/html": [
       "<div>\n",
       "<style scoped>\n",
       "    .dataframe tbody tr th:only-of-type {\n",
       "        vertical-align: middle;\n",
       "    }\n",
       "\n",
       "    .dataframe tbody tr th {\n",
       "        vertical-align: top;\n",
       "    }\n",
       "\n",
       "    .dataframe thead th {\n",
       "        text-align: right;\n",
       "    }\n",
       "</style>\n",
       "<table border=\"1\" class=\"dataframe\">\n",
       "  <thead>\n",
       "    <tr style=\"text-align: right;\">\n",
       "      <th></th>\n",
       "      <th>item_price</th>\n",
       "    </tr>\n",
       "    <tr>\n",
       "      <th>item_transmission</th>\n",
       "      <th></th>\n",
       "    </tr>\n",
       "  </thead>\n",
       "  <tbody>\n",
       "    <tr>\n",
       "      <th>Automática</th>\n",
       "      <td>15332.73</td>\n",
       "    </tr>\n",
       "    <tr>\n",
       "      <th>Automática - Secuencial</th>\n",
       "      <td>22678.64</td>\n",
       "    </tr>\n",
       "    <tr>\n",
       "      <th>Mecánica</th>\n",
       "      <td>8137.12</td>\n",
       "    </tr>\n",
       "  </tbody>\n",
       "</table>\n",
       "</div>"
      ],
      "text/plain": [
       "                         item_price\n",
       "item_transmission                  \n",
       "Automática                 15332.73\n",
       "Automática - Secuencial    22678.64\n",
       "Mecánica                    8137.12"
      ]
     },
     "execution_count": 62,
     "metadata": {},
     "output_type": "execute_result"
    }
   ],
   "source": [
    "# Solución\n",
    "df_publicaciones = df_neoauto.groupby(['item_transmission'])[['item_price']].std().round(2)\n",
    "df_publicaciones"
   ]
  },
  {
   "cell_type": "markdown",
   "metadata": {},
   "source": [
    "6. ¿Cuál es el kilometraje promedio de las publicaciones con el tag \"Premium\" y de las publicaciones con el tag \"Como nuevo\"?"
   ]
  },
  {
   "cell_type": "code",
   "execution_count": 75,
   "metadata": {},
   "outputs": [
    {
     "name": "stdout",
     "output_type": "stream",
     "text": [
      "El kilometraje promedio de la publicaciones con el tag 'Premium' son 48400.24 y con el tag 'Como nuevo' son 35963.48\n"
     ]
    }
   ],
   "source": [
    "# Solución\n",
    "df_premium = df_neoauto[(df_neoauto['item_tag'] == 'Premium')]\n",
    "df_como_nuevo = df_neoauto[(df_neoauto['item_tag'] == 'Como nuevo')]\n",
    "\n",
    "kilometraje_promedio_premium = df_premium['item_km'].mean().round(2)\n",
    "kilometraje_promedio_como_nuevo = df_como_nuevo['item_km'].mean().round(2)\n",
    "\n",
    "print(f\"El kilometraje promedio de la publicaciones con el tag 'Premium' son {kilometraje_promedio_premium} y con el tag 'Como nuevo' son {kilometraje_promedio_como_nuevo}\")\n",
    "\n"
   ]
  },
  {
   "cell_type": "markdown",
   "metadata": {},
   "source": [
    "7. ¿Cuáles son las marcas de vehículas para los que todos sus modelos fabricados en los últimos 5 años tienen al menos 5 publicaciones cada una?"
   ]
  },
  {
   "cell_type": "code",
   "execution_count": 96,
   "metadata": {},
   "outputs": [
    {
     "data": {
      "text/plain": [
       "item_brand  item_name                      \n",
       "AUDI        audi q5 2021                       8\n",
       "BMW         bmw 218i gran coupe 2021           7\n",
       "            bmw 218i gran coupe 2022           6\n",
       "            bmw 418i gci 2020                  5\n",
       "            bmw x3 20i 2020                    6\n",
       "                                              ..\n",
       "VOLKSWAGEN  volkswagen taos 2022               6\n",
       "            volkswagen tiguan allspace 2020    8\n",
       "            volkswagen tiguan allspace 2021    5\n",
       "VOLVO       volvo xc-40 2022                   5\n",
       "            volvo xc-60 2022                   5\n",
       "Length: 63, dtype: int64"
      ]
     },
     "execution_count": 96,
     "metadata": {},
     "output_type": "execute_result"
    }
   ],
   "source": [
    "# Solución\n",
    "\n",
    "df_ultimos_5_años = df_neoauto[df_neoauto['item_year'] >= (2025 - 5)]\n",
    "\n",
    "conteo_publicaciones = df_ultimos_5_años.groupby(['item_brand', 'item_name']).size()\n",
    "\n",
    "modelos_validos = conteo_publicaciones[conteo_publicaciones >= 5]\n",
    "modelos_validos\n",
    "\n",
    "\n",
    "\n",
    "\n",
    "\n",
    "\n"
   ]
  },
  {
   "cell_type": "markdown",
   "metadata": {},
   "source": [
    "## **Evolución económica internacional**"
   ]
  },
  {
   "cell_type": "markdown",
   "metadata": {},
   "source": [
    "Importa el conjunto de datos de la hoja \"Data\" del archivo `pwt1001.xlsx`. El diccionario de variables está disponible en la hoja \"Legend\" del archivo Excel.\n",
    "    "
   ]
  },
  {
   "cell_type": "markdown",
   "metadata": {},
   "source": [
    "1. Calcule el PBI per cápita real ajustado por poder de paridad de compra (PPP). Use la variable de PBI que se calcula por gasto y la población. ¿Cuáles son los 10 países top?"
   ]
  },
  {
   "cell_type": "code",
   "execution_count": 9,
   "metadata": {},
   "outputs": [
    {
     "name": "stdout",
     "output_type": "stream",
     "text": [
      "Top 10 países por PBI per cápita (PPP) en 2019:\n",
      "                    country  pbi_per_capita_ppp\n",
      "7209             Luxembourg       112941.453342\n",
      "7349       China, Macao SAR       105337.890061\n",
      "9799                  Qatar       103445.127269\n",
      "5599                Ireland       102353.631443\n",
      "10289             Singapore        88619.305271\n",
      "1609                Bermuda        79967.588736\n",
      "2239            Switzerland        71831.637057\n",
      "3079         Cayman Islands        70208.345162\n",
      "349    United Arab Emirates        69753.215256\n",
      "1889      Brunei Darussalam        67555.392597\n"
     ]
    }
   ],
   "source": [
    "# Solución\n",
    "\n",
    "import pandas as pd\n",
    "archivo_excel = \"pwt1001.xlsx\"\n",
    "datos = pd.read_excel(archivo_excel, sheet_name='Data')\n",
    "\n",
    "#display(datos.head())\n",
    "\n",
    "columna_pbi_ppp = \"rgdpe\"  # Variable de PBI real ajustado por PPP\n",
    "columna_poblacion = \"pop\"  # Variable de población\n",
    "columna_pais = \"country\" # Nombre del país\n",
    "columna_año = \"year\"   # Año\n",
    "\n",
    "# Calcular PBI per cápita (PPP)\n",
    "datos[\"pbi_per_capita_ppp\"] = datos[columna_pbi_ppp] / datos[columna_poblacion]\n",
    "\n",
    "# Cómo son datos panel filtraremos los resultados de los 10 paises top en el año 2019\n",
    "datos_filtrados = datos[datos[columna_año] == 2019]\n",
    "\n",
    "# Ordenar los países por PBI per cápita de mayor a menor\n",
    "top_10 = datos_filtrados.sort_values(by=\"pbi_per_capita_ppp\", ascending=False).head(10)\n",
    "\n",
    "print(\"Top 10 países por PBI per cápita (PPP) en 2019:\")\n",
    "print(top_10[[columna_pais, \"pbi_per_capita_ppp\"]])"
   ]
  },
  {
   "cell_type": "markdown",
   "metadata": {},
   "source": [
    "2. Genera el ránking de los países con el mayor incremento del PBI per cápita real PPP entre los años 1990 y 2019. ¿Dónde se ubica Perú? Para los países que no tengan información para dichos años, puede utilizar datos provenientes de hasta dos años antes o después"
   ]
  },
  {
   "cell_type": "code",
   "execution_count": 42,
   "metadata": {},
   "outputs": [
    {
     "name": "stdout",
     "output_type": "stream",
     "text": [
      "El ránking de los países con el mayor incremento del PBI per cápita real PPP entre 1990 y 2019 es:\n"
     ]
    },
    {
     "data": {
      "text/html": [
       "<div>\n",
       "<style scoped>\n",
       "    .dataframe tbody tr th:only-of-type {\n",
       "        vertical-align: middle;\n",
       "    }\n",
       "\n",
       "    .dataframe tbody tr th {\n",
       "        vertical-align: top;\n",
       "    }\n",
       "\n",
       "    .dataframe thead th {\n",
       "        text-align: right;\n",
       "    }\n",
       "</style>\n",
       "<table border=\"1\" class=\"dataframe\">\n",
       "  <thead>\n",
       "    <tr style=\"text-align: right;\">\n",
       "      <th></th>\n",
       "      <th>country</th>\n",
       "      <th>incremento_pbi</th>\n",
       "    </tr>\n",
       "  </thead>\n",
       "  <tbody>\n",
       "    <tr>\n",
       "      <th>0</th>\n",
       "      <td>China, Macao SAR</td>\n",
       "      <td>80511.395627</td>\n",
       "    </tr>\n",
       "    <tr>\n",
       "      <th>1</th>\n",
       "      <td>Qatar</td>\n",
       "      <td>80399.632864</td>\n",
       "    </tr>\n",
       "    <tr>\n",
       "      <th>2</th>\n",
       "      <td>Ireland</td>\n",
       "      <td>73919.053738</td>\n",
       "    </tr>\n",
       "    <tr>\n",
       "      <th>3</th>\n",
       "      <td>Singapore</td>\n",
       "      <td>66580.431427</td>\n",
       "    </tr>\n",
       "    <tr>\n",
       "      <th>4</th>\n",
       "      <td>Luxembourg</td>\n",
       "      <td>65899.533934</td>\n",
       "    </tr>\n",
       "    <tr>\n",
       "      <th>...</th>\n",
       "      <td>...</td>\n",
       "      <td>...</td>\n",
       "    </tr>\n",
       "    <tr>\n",
       "      <th>178</th>\n",
       "      <td>Montserrat</td>\n",
       "      <td>-7656.453250</td>\n",
       "    </tr>\n",
       "    <tr>\n",
       "      <th>179</th>\n",
       "      <td>Venezuela (Bolivarian Republic of)</td>\n",
       "      <td>-8630.757087</td>\n",
       "    </tr>\n",
       "    <tr>\n",
       "      <th>180</th>\n",
       "      <td>United Arab Emirates</td>\n",
       "      <td>-46029.423600</td>\n",
       "    </tr>\n",
       "    <tr>\n",
       "      <th>181</th>\n",
       "      <td>Curaçao</td>\n",
       "      <td>NaN</td>\n",
       "    </tr>\n",
       "    <tr>\n",
       "      <th>182</th>\n",
       "      <td>Sint Maarten (Dutch part)</td>\n",
       "      <td>NaN</td>\n",
       "    </tr>\n",
       "  </tbody>\n",
       "</table>\n",
       "<p>183 rows × 2 columns</p>\n",
       "</div>"
      ],
      "text/plain": [
       "                                country  incremento_pbi\n",
       "0                      China, Macao SAR    80511.395627\n",
       "1                                 Qatar    80399.632864\n",
       "2                               Ireland    73919.053738\n",
       "3                             Singapore    66580.431427\n",
       "4                            Luxembourg    65899.533934\n",
       "..                                  ...             ...\n",
       "178                          Montserrat    -7656.453250\n",
       "179  Venezuela (Bolivarian Republic of)    -8630.757087\n",
       "180                United Arab Emirates   -46029.423600\n",
       "181                             Curaçao             NaN\n",
       "182           Sint Maarten (Dutch part)             NaN\n",
       "\n",
       "[183 rows x 2 columns]"
      ]
     },
     "metadata": {},
     "output_type": "display_data"
    },
    {
     "name": "stdout",
     "output_type": "stream",
     "text": [
      "Perú se ubica en la posición 83 del ránking.\n"
     ]
    }
   ],
   "source": [
    "#Solución\n",
    "#  Filtrar los datos para los años 1990 y 2019 (o hasta dos años antes o después)\n",
    "datos_1990 = datos[(datos[columna_año] >= 1988) & (datos[columna_año] <= 1992)]\n",
    "datos_2019 = datos[(datos[columna_año] >= 2017) & (datos[columna_año] <= 2021)]\n",
    "\n",
    "# Obtener el PBI per cápita real PPP para 1990 y 2019\n",
    "pbi_1990 = datos_1990.groupby(columna_pais)['pbi_per_capita_ppp'].mean().reset_index()\n",
    "pbi_2019 = datos_2019.groupby(columna_pais)['pbi_per_capita_ppp'].mean().reset_index()\n",
    "\n",
    "# Renombrar las columnas\n",
    "pbi_1990 = pbi_1990.rename(columns={'pbi_per_capita_ppp': 'pbi_1990'})\n",
    "pbi_2019 = pbi_2019.rename(columns={'pbi_per_capita_ppp': 'pbi_2019'})\n",
    "\n",
    "# Unir los datos de 1990 y 2019\n",
    "incremento_pbi = pd.merge(pbi_1990, pbi_2019, on=columna_pais)\n",
    "\n",
    "# Calcular el incremento del PBI per cápita real PPP\n",
    "incremento_pbi['incremento_pbi'] = incremento_pbi['pbi_2019'] - incremento_pbi['pbi_1990']\n",
    "\n",
    "# Ordenar los países por el incremento del PBI per cápita real PPP de mayor a menor\n",
    "ranking_incremento_pbi = incremento_pbi.sort_values(by='incremento_pbi', ascending=False).reset_index(drop=True)\n",
    "\n",
    "# Determinar la posición de Perú en el ránking\n",
    "posicion_peru = ranking_incremento_pbi[ranking_incremento_pbi[columna_pais] == 'Peru'].index[0] + 1\n",
    "\n",
    "print(f\"El ránking de los países con el mayor incremento del PBI per cápita real PPP entre 1990 y 2019 es:\")\n",
    "display(ranking_incremento_pbi[[columna_pais, 'incremento_pbi']])\n",
    "\n",
    "print(f\"Perú se ubica en la posición {posicion_peru} del ránking.\")"
   ]
  },
  {
   "cell_type": "markdown",
   "metadata": {},
   "source": [
    "3. Para el periodo 2010-2019, calcule el promedio del índice del capital humano. ¿Qué relación existe entre esta variable y el PBI per cápita real PPP calculado previamente? ¿y el número de horas laboradas al año por los trabajadores?"
   ]
  },
  {
   "cell_type": "code",
   "execution_count": 38,
   "metadata": {},
   "outputs": [
    {
     "name": "stdout",
     "output_type": "stream",
     "text": [
      "                                country  Índice de Capital Humano\n",
      "0                               Albania                  2.934304\n",
      "1                               Algeria                  2.207947\n",
      "2                                Angola                  1.449344\n",
      "3                              Anguilla                       NaN\n",
      "4                   Antigua and Barbuda                       NaN\n",
      "..                                  ...                       ...\n",
      "178  Venezuela (Bolivarian Republic of)                  2.738341\n",
      "179                            Viet Nam                  2.647214\n",
      "180                               Yemen                  1.613632\n",
      "181                              Zambia                  2.465329\n",
      "182                            Zimbabwe                  2.554634\n",
      "\n",
      "[183 rows x 2 columns]\n",
      "Correlación entre Índice de Capital Humano y PBI per cápita real PPP:\n",
      "                          Índice de Capital Humano  pbi_per_capita_ppp\n",
      "Índice de Capital Humano                  1.000000            0.597898\n",
      "pbi_per_capita_ppp                        0.597898            1.000000\n",
      "Correlación entre Índice de Capital Humano y Horas Laboradas al Año:\n",
      "                          Índice de Capital Humano      avh\n",
      "Índice de Capital Humano                   1.00000 -0.57698\n",
      "avh                                       -0.57698  1.00000\n"
     ]
    }
   ],
   "source": [
    "# Solución\n",
    "datos = datos.rename(columns={'hc': 'Índice de Capital Humano'})\n",
    "\n",
    "#Paso1: Filtrar los datos para el periodo 2010-2019\n",
    "datos_periodo = datos[(datos['year'] >= 2010) & (datos['year'] <= 2019)]\n",
    "\n",
    "#Paso2: Calcular el promedio del Índice de Capital Humano por país \n",
    "promedio_hc = datos_periodo.groupby('country')['Índice de Capital Humano'].mean().reset_index() \n",
    "print(promedio_hc) \n",
    "\n",
    "#Paso3: Relación entre el PBI per cápita y el Índice de Capital Humano\n",
    "correlacion_hc_pbi = datos_periodo[['country', 'Índice de Capital Humano', 'pbi_per_capita_ppp']].groupby('country').mean()\n",
    "correlacion_hc_pbi = correlacion_hc_pbi.corr()  # Correlación de Pearson entre las variables\n",
    "print('Correlación entre Índice de Capital Humano y PBI per cápita real PPP:')\n",
    "print(correlacion_hc_pbi)\n",
    "\n",
    "#Paso 4: Relación entre el Índice de capital humano y el numero de horas laboradas al año por los trabajadores\n",
    "correlacion_hc_horas = datos_periodo[['country', 'Índice de Capital Humano', 'avh']].groupby('country').mean()\n",
    "correlacion_hc_horas = correlacion_hc_horas.corr()  # Correlación de Pearson entre las variables\n",
    "print('Correlación entre Índice de Capital Humano y Horas Laboradas al Año:')\n",
    "print(correlacion_hc_horas)\n",
    "\n",
    "\n"
   ]
  },
  {
   "cell_type": "markdown",
   "metadata": {},
   "source": [
    "Interpretación correlación entre indice del capital humano, pbi percapita real PPP y horas laboradas al año: \n",
    "\n",
    "- Correlación positiva fuerte entre Índice de Capital Humano y PIB per cápita: Un coeficiente de correlación de 0.597898 indica una relación positiva moderadamente fuerte entre ambas variables. Esto significa que, en general, los países con un índice de capital humano más alto tienden a tener un PIB per cápita más elevado.\n",
    "\n",
    "- Correlación negativa moderada entre Índice de Capital Humano y Horas Trabajadas: Un coeficiente de correlación de -0.57698 indica una relación negativa moderada entre ambas variables. Esto sugiere que, en promedio, los países con un índice de capital humano más alto suelen tener menos horas trabajadas por persona al año."
   ]
  },
  {
   "cell_type": "markdown",
   "metadata": {},
   "source": [
    "4. A partir de la variable del precio de los hogares, calcula los países y los años en los cuales se registró la mayor inflación anual para todo el periodo de tiempo disponible en la base de datos"
   ]
  },
  {
   "cell_type": "code",
   "execution_count": 26,
   "metadata": {},
   "outputs": [
    {
     "name": "stdout",
     "output_type": "stream",
     "text": [
      "                                  country  year  Inflación Anual\n",
      "256                               Albania  1996        36.428398\n",
      "3608                              Algeria  1988        23.769727\n",
      "119                                Angola  1999       144.032916\n",
      "181                              Anguilla  1991        25.789678\n",
      "524                   Antigua and Barbuda  1984        40.489905\n",
      "...                                   ...   ...              ...\n",
      "12387  Venezuela (Bolivarian Republic of)  2017       355.748049\n",
      "12494                            Viet Nam  1984        42.464410\n",
      "12597                               Yemen  2017        31.108906\n",
      "12708                              Zambia  1988        60.785233\n",
      "12795                            Zimbabwe  2005       281.705724\n",
      "\n",
      "[183 rows x 3 columns]\n"
     ]
    },
    {
     "name": "stderr",
     "output_type": "stream",
     "text": [
      "C:\\Users\\Leo\\AppData\\Local\\Temp\\ipykernel_12596\\1945211753.py:4: FutureWarning: The default fill_method='ffill' in SeriesGroupBy.pct_change is deprecated and will be removed in a future version. Either fill in any non-leading NA values prior to calling pct_change or specify 'fill_method=None' to not fill NA values.\n",
      "  datos['Inflación Anual'] = datos.groupby('country')['precios'].pct_change() * 100\n"
     ]
    }
   ],
   "source": [
    "# Solución\n",
    "datos = datos.rename(columns={'pl_c': 'precios'})\n",
    "datos = datos.sort_values(by=['country', 'year'])\n",
    "datos['Inflación Anual'] = datos.groupby('country')['precios'].pct_change() * 100\n",
    "max_inflacion = datos.loc[datos.groupby('country')['Inflación Anual'].idxmax()]\n",
    "print(max_inflacion[['country', 'year', 'Inflación Anual']]) "
   ]
  },
  {
   "cell_type": "markdown",
   "metadata": {},
   "source": [
    "5. ¿Cuáles son los países con la mayor cantidad de missing values en la variable de productividad total de factores a precios corrientes?"
   ]
  },
  {
   "cell_type": "code",
   "execution_count": 36,
   "metadata": {},
   "outputs": [
    {
     "name": "stdout",
     "output_type": "stream",
     "text": [
      "country\n",
      "Albania                           70\n",
      "Turkmenistan                      70\n",
      "Sint Maarten (Dutch part)         70\n",
      "Grenada                           70\n",
      "Ghana                             70\n",
      "Georgia                           70\n",
      "Gambia                            70\n",
      "St. Vincent and the Grenadines    70\n",
      "Pakistan                          70\n",
      "Ethiopia                          70\n",
      "Name: productividad total, dtype: int64\n"
     ]
    }
   ],
   "source": [
    "#Solución\n",
    "datos = datos.rename(columns={'ctfp': 'productividad total'})\n",
    "valores_faltantes_ctfp = datos.groupby('country')['productividad total'].apply(lambda x: x.isnull().sum())\n",
    "valores_faltantes_ctfp = valores_faltantes_ctfp.sort_values(ascending=False)\n",
    "print(valores_faltantes_ctfp.head(10))"
   ]
  },
  {
   "cell_type": "markdown",
   "metadata": {},
   "source": [
    "6.  Agrupa los datos por país y calcula el promedio de las horas trabajadas anuales (avh) y de la educación promedio (hc) para el periodo 2000-2020."
   ]
  },
  {
   "cell_type": "code",
   "execution_count": 41,
   "metadata": {
    "vscode": {
     "languageId": "ruby"
    }
   },
   "outputs": [
    {
     "name": "stdout",
     "output_type": "stream",
     "text": [
      "                                country          avh  Índice de Capital Humano\n",
      "0                               Albania          NaN                  2.895579\n",
      "1                               Algeria          NaN                  2.080837\n",
      "2                                Angola          NaN                  1.399746\n",
      "3                              Anguilla          NaN                       NaN\n",
      "4                   Antigua and Barbuda          NaN                       NaN\n",
      "..                                  ...          ...                       ...\n",
      "178  Venezuela (Bolivarian Republic of)  1874.516018                  2.538335\n",
      "179                            Viet Nam  2243.230824                  2.407059\n",
      "180                               Yemen          NaN                  1.444725\n",
      "181                              Zambia          NaN                  2.304970\n",
      "182                            Zimbabwe          NaN                  2.388763\n",
      "\n",
      "[183 rows x 3 columns]\n"
     ]
    }
   ],
   "source": [
    "#Solución\n",
    "datos_periodo_2000_2020 = datos[(datos['year'] >= 2000) & (datos['year'] <= 2020)]\n",
    "promedio_avh_hc = datos_periodo_2000_2020.groupby('country')[['avh', 'Índice de Capital Humano']].mean().reset_index()\n",
    "print(promedio_avh_hc)"
   ]
  },
  {
   "cell_type": "markdown",
   "metadata": {},
   "source": [
    "7.  Genere una variable que ordene a los países según el porcetaje de formación brutal de capital del 2019. Luego, estable diez grupos a manera de deciles. ¿En qué decil se ubica Péru? Vuelva a calcular usando la información de 1990. ¿El Perú se mantiene en el mismo décil o cambia?"
   ]
  },
  {
   "cell_type": "code",
   "execution_count": 40,
   "metadata": {},
   "outputs": [
    {
     "name": "stdout",
     "output_type": "stream",
     "text": [
      "En 2019, Perú se ubica en el decil 5.\n",
      "En 1990, Perú se ubica en el decil 4.0.\n",
      "Perú cambia de decil entre 1990 y 2019.\n"
     ]
    }
   ],
   "source": [
    "# Solución\n",
    "\n",
    "# Filtrar los datos para el año 2019\n",
    "datos_2019 = datos[datos['year'] == 2019]\n",
    "\n",
    "# Ordenar los países según el porcentaje de formación bruta de capital (csh_i)\n",
    "datos_2019 = datos_2019.sort_values(by='csh_i', ascending=False).reset_index(drop=True)\n",
    "\n",
    "# Crear una nueva columna para los deciles\n",
    "datos_2019['decile'] = pd.qcut(datos_2019['csh_i'], 10, labels=False) + 1\n",
    "\n",
    "# Encontrar el decil en el que se ubica Perú en 2019\n",
    "decil_peru_2019 = datos_2019[datos_2019['country'] == 'Peru']['decile'].values[0]\n",
    "print(f\"En 2019, Perú se ubica en el decil {decil_peru_2019}.\")\n",
    "\n",
    "# Filtrar los datos para el año 1990\n",
    "datos_1990 = datos[datos['year'] == 1990]\n",
    "\n",
    "# Ordenar los países según el porcentaje de formación bruta de capital (csh_i)\n",
    "datos_1990 = datos_1990.sort_values(by='csh_i', ascending=False).reset_index(drop=True)\n",
    "\n",
    "# Crear una nueva columna para los deciles\n",
    "datos_1990['decile'] = pd.qcut(datos_1990['csh_i'], 10, labels=False) + 1\n",
    "\n",
    "# Encontrar el decil en el que se ubica Perú en 1990\n",
    "decil_peru_1990 = datos_1990[datos_1990['country'] == 'Peru']['decile'].values[0]\n",
    "print(f\"En 1990, Perú se ubica en el decil {decil_peru_1990}.\")\n",
    "\n",
    "# Comparar los deciles\n",
    "if decil_peru_2019 == decil_peru_1990:\n",
    "    print(\"Perú se mantiene en el mismo decil en 2019 y 1990.\")\n",
    "else:\n",
    "    print(\"Perú cambia de decil entre 1990 y 2019.\")"
   ]
  },
  {
   "cell_type": "markdown",
   "metadata": {},
   "source": [
    "## **Transacciones Financieras**"
   ]
  },
  {
   "cell_type": "markdown",
   "metadata": {},
   "source": [
    "Importa el conjunto de datos `base_financiera.csv`\n",
    "    "
   ]
  },
  {
   "cell_type": "code",
   "execution_count": 20,
   "metadata": {},
   "outputs": [
    {
     "name": "stdout",
     "output_type": "stream",
     "text": [
      "   Transaction_ID Customer_ID        Date   Amount Transaction_Type Region\n",
      "0            1001        C190  2023-01-01   798.68           Credit  North\n",
      "1            1002        C016  2023-01-02   906.97            Debit  South\n",
      "2            1003        C033  2023-01-03  1579.96            Debit  South\n",
      "3            1004        C142  2023-01-04  1579.62           Credit   East\n",
      "4            1005        C035  2023-01-05  3719.21            Debit  North\n"
     ]
    }
   ],
   "source": [
    "import pandas as pd\n",
    "\n",
    "base_financiera = \"C:\\\\Users\\\\janel\\\\OneDrive\\\\Documentos\\\\GitHub\\\\tarea-4-zegarra-rivera-bueno\\\\base_financiera.csv\"\n",
    "df_base_financiera = pd.read_csv(base_financiera, delimiter=\",\")\n",
    "print(df_base_financiera.head())\n"
   ]
  },
  {
   "cell_type": "markdown",
   "metadata": {},
   "source": [
    "8. Filtra todas las transacciones de tipo \"Debit\" en las que el monto sea mayor a 200, y calcula el monto total de esas transacciones. Además, determina cuántos clientes únicos realizaron esas transacciones."
   ]
  },
  {
   "cell_type": "code",
   "execution_count": 21,
   "metadata": {},
   "outputs": [
    {
     "name": "stdout",
     "output_type": "stream",
     "text": [
      "Monto total de transacciones 'Debit' > 200: 2847871.75\n",
      "Número de clientes únicos: 200\n"
     ]
    }
   ],
   "source": [
    "# Solución\n",
    "debit_transactions = df_base_financiera[(df_base_financiera[\"Transaction_Type\"] == \"Debit\") & (df_base_financiera[\"Amount\"] > 200)]\n",
    "\n",
    "# Monto total de estas transacciones\n",
    "total_debit_amount = debit_transactions[\"Amount\"].sum()\n",
    "# Clientes únicos que realizaron estas transacciones\n",
    "unique_customers_debit = debit_transactions[\"Customer_ID\"].nunique()\n",
    "\n",
    "print(f\"Monto total de transacciones 'Debit' > 200: {total_debit_amount}\")\n",
    "print(f\"Número de clientes únicos: {unique_customers_debit}\")"
   ]
  },
  {
   "cell_type": "markdown",
   "metadata": {},
   "source": [
    "9. Identifica las transacciones con valores nulos en la columna (`Amount`) . Rellena esos valores con la mediana de los montos por tipo de transacción (`Transaction_Type`) y luego calcula el monto total de transacciones por región (`region`) ."
   ]
  },
  {
   "cell_type": "code",
   "execution_count": 22,
   "metadata": {},
   "outputs": [
    {
     "name": "stdout",
     "output_type": "stream",
     "text": [
      "Monto total por región:\n",
      "Region\n",
      "East     1269409.53\n",
      "North    1321224.96\n",
      "South    1208300.23\n",
      "West     1233552.50\n",
      "Name: Amount, dtype: float64\n"
     ]
    }
   ],
   "source": [
    "# Solución\n",
    "# Transacciones con valores nulos en \"Amount\"\n",
    "null_transactions = df_base_financiera[df_base_financiera[\"Amount\"].isnull()]\n",
    "\n",
    "# Mediana de \"Amount\" por tipo de transacción\n",
    "median_by_type = df_base_financiera.groupby(\"Transaction_Type\")[\"Amount\"].median()\n",
    "\n",
    "# Completamos los valores nulos con la mediana correspondiente\n",
    "df_base_financiera[\"Amount\"] = df_base_financiera.apply(\n",
    "    lambda row: median_by_type[row[\"Transaction_Type\"]] if pd.isnull(row[\"Amount\"]) else row[\"Amount\"], axis=1\n",
    ")\n",
    "# Monto total de transacciones por región\n",
    "total_by_region = df_base_financiera.groupby(\"Region\")[\"Amount\"].sum()\n",
    "print(\"Monto total por región:\")\n",
    "print(total_by_region)"
   ]
  },
  {
   "cell_type": "markdown",
   "metadata": {},
   "source": [
    "10. Busca transacciones duplicadas considerando las columnas (`Customer_ID`) y (`Date`). Elimina los duplicados manteniendo solo la primera ocurrencia. Luego, agrupa las transacciones restantes por (`Customer_ID`) y calcula el monto promedio y la cantidad de transacciones por cliente."
   ]
  },
  {
   "cell_type": "code",
   "execution_count": 24,
   "metadata": {},
   "outputs": [
    {
     "name": "stdout",
     "output_type": "stream",
     "text": [
      "Estadísticas por cliente:\n",
      "             promedio_amount  cantidad_transacciones\n",
      "Customer_ID                                         \n",
      "C001             3283.319412                      17\n",
      "C002             1881.827778                       9\n",
      "C003             3102.125000                      14\n",
      "C004             2879.267143                       7\n",
      "C005             3364.053333                       6\n",
      "...                      ...                     ...\n",
      "C196             2566.555000                      10\n",
      "C197             2530.674286                      14\n",
      "C198             2484.925000                      12\n",
      "C199             2942.038000                       5\n",
      "C200             2196.990000                       5\n",
      "\n",
      "[200 rows x 2 columns]\n"
     ]
    }
   ],
   "source": [
    "# Solución\n",
    "# Buscamos y eliminamos duplicados considerando \"Customer_ID\" y \"Date\"\n",
    "df_base_financiera = df_base_financiera.drop_duplicates(subset=[\"Customer_ID\", \"Date\"], keep=\"first\")\n",
    "\n",
    "# Agrupamos por \"Customer_ID\" y calculamos el monto promedio y cantidad de transacciones\n",
    "customer_stats = df_base_financiera.groupby(\"Customer_ID\").agg(\n",
    "    promedio_amount=(\"Amount\", \"mean\"),\n",
    "    cantidad_transacciones=(\"Amount\", \"count\")\n",
    ")\n",
    "\n",
    "print(\"Estadísticas por cliente:\")\n",
    "print(customer_stats)\n"
   ]
  }
 ],
 "metadata": {
  "hide_input": false,
  "kernelspec": {
   "display_name": "base",
   "language": "python",
   "name": "python3"
  },
  "language_info": {
   "codemirror_mode": {
    "name": "ipython",
    "version": 3
   },
   "file_extension": ".py",
   "mimetype": "text/x-python",
   "name": "python",
   "nbconvert_exporter": "python",
   "pygments_lexer": "ipython3",
   "version": "3.12.7"
  },
  "toc": {
   "base_numbering": 1,
   "nav_menu": {},
   "number_sections": true,
   "sideBar": true,
   "skip_h1_title": false,
   "title_cell": "Table of Contents",
   "title_sidebar": "Contents",
   "toc_cell": false,
   "toc_position": {},
   "toc_section_display": true,
   "toc_window_display": false
  }
 },
 "nbformat": 4,
 "nbformat_minor": 4
}
